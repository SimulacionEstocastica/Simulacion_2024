{
 "cells": [
  {
   "cell_type": "code",
   "execution_count": 7,
   "metadata": {},
   "outputs": [],
   "source": [
    "import pandas as pd\n",
    "import numpy as np\n",
    "import matplotlib.pyplot as plt\n",
    "import time"
   ]
  },
  {
   "cell_type": "code",
   "execution_count": 522,
   "metadata": {},
   "outputs": [],
   "source": [
    "def rindex(lst, value):\n",
    "    lst.reverse()\n",
    "    i = lst.index(value)\n",
    "    lst.reverse()\n",
    "    return len(lst) - i - 1"
   ]
  },
  {
   "cell_type": "code",
   "execution_count": 540,
   "metadata": {},
   "outputs": [],
   "source": [
    "def clear_path(tour):\n",
    "\n",
    "    visited={-1}\n",
    "    sol=[]\n",
    "    \n",
    "    for i in range(len(tour)):\n",
    "        ok=True\n",
    "        if tour[i] not in visited:\n",
    "            visited=visited.union({tour[i]})\n",
    "            sol.append(tour[i])\n",
    "        else:\n",
    "            j=rindex(sol,tour[i])+1\n",
    "            a=rindex(sol,tour[i])\n",
    "            while j<len(sol) and ok :  \n",
    "                if  sol[j] not in sol[:a]:\n",
    "                    ok=False\n",
    "                else:\n",
    "                    j+=1\n",
    "\n",
    "            if ok==True:\n",
    "                sol=sol[:a]+[tour[i]]\n",
    "            else:\n",
    "                sol.append(tour[i])\n",
    "        \n",
    "    return sol    \n",
    "            \n",
    "            "
   ]
  },
  {
   "cell_type": "code",
   "execution_count": 683,
   "metadata": {},
   "outputs": [],
   "source": [
    "\n",
    "     def adjacents(tour):\n",
    "         \n",
    "        # Generate all consecutive pairs\n",
    "        pairs = [tuple(sorted((tour[i], tour[i + 1]))) for i in range(len(tour) - 1)]\n",
    "        # Use a set to remove duplicate pairs\n",
    "        unique_pairs = list(set(pairs))\n",
    "        return unique_pairs"
   ]
  },
  {
   "cell_type": "code",
   "execution_count": 676,
   "metadata": {},
   "outputs": [],
   "source": [
    "class AntColony:\n",
    "    def __init__(self, d, m, n_iter, ro, alpha, beta,epsilon, first_city):\n",
    "        self.d = d\n",
    "        self.N = len(d)\n",
    "        self.tau = np.ones(self.d.shape) / self.N\n",
    "        self.m = m\n",
    "        self.n_iter = n_iter\n",
    "        self.ro = ro\n",
    "        self.alpha = alpha\n",
    "        self.beta = beta\n",
    "        self.epsilon = epsilon\n",
    "        self.first_city = first_city\n",
    "        self.best_route = None\n",
    "        self.best_length = float('inf')\n",
    "        self.history = [] \n",
    "\n",
    "\n",
    "\n",
    "\n",
    "    # general algorithm\n",
    "    def run(self):\n",
    "        for _ in range(self.n_iter):\n",
    "            tours = self.generate_tours()\n",
    "            self.update_pheromones(tours)\n",
    "\n",
    "            best_local_route, best_local_length = self.get_best(tours)\n",
    "            if best_local_length < self.best_length:\n",
    "                self.best_route = best_local_route\n",
    "                self.best_length = best_local_length\n",
    "            self.history.append((self.best_route, self.best_length))  # Save best route and length in history\n",
    "        return self.best_route, self.best_length\n",
    "\n",
    "    # generate all the tours by each ant and its length\n",
    "    def generate_tours(self):\n",
    "        tours = []\n",
    "        for _ in range(self.m):\n",
    "            tour = self.generate_ant_tour()\n",
    "            tours.append((tour, self.total_length(tour)))\n",
    "        return tours\n",
    "\n",
    "    # generate a tour for each ant\n",
    "    def generate_ant_tour(self):\n",
    "        tour = [self.first_city]\n",
    "        visited = {self.first_city}\n",
    "        current_city = self.first_city\n",
    "        while len(visited)< self.N : #or current_city!=self.first_city):\n",
    "            current_city = tour[-1]\n",
    "            next_city = self.pick_next_city(current_city, tour)\n",
    "            tour.append(next_city)\n",
    "            visited=visited.union({next_city})\n",
    "           \n",
    "        return clear_path(tour)\n",
    "        #return tour\n",
    "\n",
    "    # pick the next city on the tour\n",
    "    def pick_next_city(self, current_city, tour):\n",
    "        pheromone = self.tau[current_city]\n",
    "        distances = self.d[current_city]\n",
    "        distances[current_city]=np.inf\n",
    "        probabilities = (pheromone**self.alpha) * ((1 / distances)**self.beta)\n",
    "        probabilities = np.where(np.isin(range(self.N), tour),self.epsilon*probabilities , probabilities)\n",
    "        probabilities /= probabilities.sum()\n",
    "        #print(probabilities)\n",
    "        #time.sleep(5)\n",
    "        return np.random.choice(range(self.N), p=probabilities)\n",
    "\n",
    "    # compute total length of a tour\n",
    "    def total_length(self, tour):\n",
    "        length = sum(self.d[tour[i], tour[i+1]] for i in range(len(tour)-1)\n",
    "        return length\n",
    "\n",
    "   \n",
    "\n",
    "    # update the pheromones considering all the ants' tours\n",
    "    def update_pheromones(self, tours):\n",
    "        self.tau *= (1 - self.ro)\n",
    "        for tour, length in tours:            \n",
    "            pairs = adjacents(tour)\n",
    "            for i,j in pairs:\n",
    "                self.tau[i,j] += 1 / length\n",
    "                self.tau[j,i] += 1 / length\n",
    "\n",
    "    def get_best(self, tours):\n",
    "        return min(tours, key=lambda x: x[1])\n"
   ]
  },
  {
   "cell_type": "code",
   "execution_count": 17,
   "metadata": {},
   "outputs": [
    {
     "data": {
      "text/plain": [
       "3"
      ]
     },
     "execution_count": 17,
     "metadata": {},
     "output_type": "execute_result"
    }
   ],
   "source": [
    "a={1,2,3}\n",
    "a.union({4})\n",
    "len(a)"
   ]
  },
  {
   "cell_type": "code",
   "execution_count": 336,
   "metadata": {},
   "outputs": [
    {
     "data": {
      "text/plain": [
       "array([2, 3])"
      ]
     },
     "execution_count": 336,
     "metadata": {},
     "output_type": "execute_result"
    }
   ],
   "source": []
  },
  {
   "cell_type": "code",
   "execution_count": 350,
   "metadata": {},
   "outputs": [
    {
     "data": {
      "text/plain": [
       "(2, 3)"
      ]
     },
     "execution_count": 350,
     "metadata": {},
     "output_type": "execute_result"
    }
   ],
   "source": [
    "a=[(2,3),(3,2)]\n",
    "tuple(sorted((3,2)))"
   ]
  },
  {
   "cell_type": "code",
   "execution_count": 92,
   "metadata": {},
   "outputs": [],
   "source": [
    "np.random.seed(42)\n",
    "\n",
    "num_cities = 10\n",
    "cities = np.random.rand(num_cities, 2)  "
   ]
  },
  {
   "cell_type": "code",
   "execution_count": 94,
   "metadata": {
    "scrolled": true
   },
   "outputs": [
    {
     "name": "stdout",
     "output_type": "stream",
     "text": [
      "[[0.37454012 0.95071431]\n",
      " [0.73199394 0.59865848]\n",
      " [0.15601864 0.15599452]\n",
      " [0.05808361 0.86617615]\n",
      " [0.60111501 0.70807258]\n",
      " [0.02058449 0.96990985]\n",
      " [0.83244264 0.21233911]\n",
      " [0.18182497 0.18340451]\n",
      " [0.30424224 0.52475643]\n",
      " [0.43194502 0.29122914]]\n"
     ]
    }
   ],
   "source": [
    "print(cities)"
   ]
  },
  {
   "cell_type": "code",
   "execution_count": 106,
   "metadata": {},
   "outputs": [
    {
     "data": {
      "text/plain": [
       "[3, 4]"
      ]
     },
     "execution_count": 106,
     "metadata": {},
     "output_type": "execute_result"
    }
   ],
   "source": [
    "a=[1,2,3,4]\n",
    "a[2:]"
   ]
  },
  {
   "cell_type": "code",
   "execution_count": 126,
   "metadata": {},
   "outputs": [
    {
     "data": {
      "text/plain": [
       "array([       inf, 0.17058938,        inf, 0.56557921, 0.        ,\n",
       "       0.63684727, 0.5470504 , 0.67162543,        inf, 0.44986324])"
      ]
     },
     "execution_count": 126,
     "metadata": {},
     "output_type": "execute_result"
    }
   ],
   "source": [
    "N = len(cities)\n",
    "diff = cities[:, np.newaxis, :] - cities[np.newaxis, :, :]\n",
    "d = np.sqrt(np.sum(diff**2, axis=-1))\n",
    "d[0,2:] =np.inf\n",
    "d[2:,0]=np.inf\n",
    "d[2,2:] =np.inf\n",
    "d[2:,2]=np.inf\n",
    "d[8,7:]=np.inf\n",
    "d[7:,8] =np.inf\n",
    "d[8,:6]=np.inf\n",
    "d[:6,8]=np.inf\n",
    "d[4]"
   ]
  },
  {
   "cell_type": "code",
   "execution_count": 685,
   "metadata": {},
   "outputs": [
    {
     "name": "stdout",
     "output_type": "stream",
     "text": [
      "Best tour: [0, 1, 2, 1, 4, 5, 3, 7, 9, 6, 8]\n",
      "Best length: 4.860448272266219\n"
     ]
    }
   ],
   "source": [
    "## N = len(cities)\n",
    "#diff = cities[:, np.newaxis, :] - cities[np.newaxis, :, :]\n",
    "#d = np.sqrt(np.sum(diff**2, axis=-1))\n",
    "\n",
    "ant_colony = AntColony(d, m=2, n_iter=100, ro=0.1, alpha=1, beta=2,epsilon=0.001, first_city=0)\n",
    "best_tour, best_length = ant_colony.run() \n",
    "\n",
    "print(f\"Best tour: {best_tour}\")\n",
    "print(f\"Best length: {best_length}\")"
   ]
  },
  {
   "cell_type": "code",
   "execution_count": 681,
   "metadata": {},
   "outputs": [
    {
     "data": {
      "text/plain": [
       "4.9754196701980336"
      ]
     },
     "execution_count": 681,
     "metadata": {},
     "output_type": "execute_result"
    }
   ],
   "source": [
    "b=[]\n",
    "for i in range(30):\n",
    "    ant_colony = AntColony(d, m=2, n_iter=100, ro=0.1, alpha=1, beta=2,epsilon=0.001, first_city=0)\n",
    "    best_tour, best_length = ant_colony.run() \n",
    "    b.append(best_length)\n",
    " \n",
    "np.mean(b)    "
   ]
  },
  {
   "cell_type": "code",
   "execution_count": 674,
   "metadata": {},
   "outputs": [
    {
     "data": {
      "text/plain": [
       "5.007136635480345"
      ]
     },
     "execution_count": 674,
     "metadata": {},
     "output_type": "execute_result"
    }
   ],
   "source": [
    "np.mean(b)  "
   ]
  },
  {
   "cell_type": "code",
   "execution_count": 715,
   "metadata": {},
   "outputs": [
    {
     "data": {
      "image/png": "[encoded data removed]",
      "text/plain": [
       "<Figure size 800x600 with 1 Axes>"
      ]
     },
     "metadata": {},
     "output_type": "display_data"
    }
   ],
   "source": [
    "\n",
    "l_grafico = [cities[x] for x in best_tour]\n",
    "\n",
    "# Extract the x and y coordinates for plotting\n",
    "l_x = [l_grafico[i][0] for i in range(len(best_tour))]\n",
    "l_y = [l_grafico[i][1] for i in range(len(best_tour))]\n",
    "\n",
    "\n",
    "# Plot the path as a graph with arrows\n",
    "plt.figure(figsize=(8, 6))\n",
    "\n",
    "# Plot the cities as points\n",
    "plt.plot(l_x, l_y, 'o', label=\"Cities\", color='dodgerblue')\n",
    "\n",
    "# Add arrows for directed edges\n",
    "for i in range(len(best_tour) - 1):\n",
    "    start_x, start_y = l_grafico[i]\n",
    "    end_x, end_y = l_grafico[i + 1]\n",
    "    # Use annotate to draw arrows\n",
    "    plt.annotate(\n",
    "        '', xy=(end_x, end_y), xytext=(start_x, start_y),\n",
    "        arrowprops=dict(arrowstyle='->', color='black')\n",
    "    )\n",
    "\n",
    "# Adjust the plot\n",
    "plt.style.use('ggplot')\n",
    "plt.grid(color='lightgray', linestyle='--', linewidth=0.5, alpha=0.7, zorder=1)\n",
    "plt.gca().set_facecolor('whitesmoke')\n",
    "plt.xlim(0, 1)\n",
    "plt.ylim(0, 1)\n",
    "plt.title(\"Best Tour\")\n",
    "plt.legend()\n",
    "#plt.grid(True)\n",
    "plt.show()"
   ]
  },
  {
   "cell_type": "code",
   "execution_count": null,
   "metadata": {},
   "outputs": [],
   "source": []
  }
 ],
 "metadata": {
  "kernelspec": {
   "display_name": "Python 3 (ipykernel)",
   "language": "python",
   "name": "python3"
  },
  "language_info": {
   "codemirror_mode": {
    "name": "ipython",
    "version": 3
   },
   "file_extension": ".py",
   "mimetype": "text/x-python",
   "name": "python",
   "nbconvert_exporter": "python",
   "pygments_lexer": "ipython3",
   "version": "3.12.4"
  }
 },
 "nbformat": 4,
 "nbformat_minor": 4
}
